{
 "cells": [
  {
   "cell_type": "code",
   "execution_count": 1,
   "metadata": {},
   "outputs": [],
   "source": [
    "import time"
   ]
  },
  {
   "cell_type": "code",
   "execution_count": 2,
   "metadata": {},
   "outputs": [],
   "source": [
    "d={1:['a','b'],2:['z','a'],3:['e','f','g'],5:['a','g','f','z']}\n",
    "                                                                 \n",
    "chars = \"qwertyuiopasdfghjklzxcvbnm\"                                        \n",
    "chars = sorted(chars.upper() + chars)                                                                                                                     \n",
    "keys = [c + str(n) for c in chars for n in range(1000)]                                                                                                       \n",
    "import random\n",
    "random.seed(42)                                                                  \n",
    "d_big = {k: [random.randint(1, 1000) for _ in range(random.randint(1, 10))] for k in keys}\n",
    "             "
   ]
  },
  {
   "cell_type": "code",
   "execution_count": 3,
   "metadata": {},
   "outputs": [],
   "source": [
    "def timeit(method):\n",
    "    def timed(*args, **kw):\n",
    "        ts = time.time()\n",
    "        result = method(*args, **kw)\n",
    "        te = time.time()        \n",
    "        print(f'{method.__name__}  {(te-ts)*1000} ms')\n",
    "        return result    \n",
    "    return timed"
   ]
  },
  {
   "cell_type": "code",
   "execution_count": 4,
   "metadata": {},
   "outputs": [
    {
     "name": "stdout",
     "output_type": "stream",
     "text": [
      "{'a': [1, 2, 5], 'b': [1], 'z': [2, 5], 'e': [3], 'f': [3, 5], 'g': [3, 5]}\n",
      "defaultdict(<class 'list'>, {'a': [1, 2, 5], 'b': [1], 'z': [2, 5], 'e': [3], 'f': [3, 5], 'g': [3, 5]})\n"
     ]
    }
   ],
   "source": [
    "#@timeit\n",
    "def rev_dict(d):\n",
    "    rd = {}\n",
    "    for k, v in d.items():\n",
    "        for i in v:\n",
    "            if(i in rd):\n",
    "                rd[i].append(k)\n",
    "            else:\n",
    "                rd[i]=[k]\n",
    "    return rd\n",
    "\n",
    "\n",
    "from collections import defaultdict\n",
    "\n",
    "#@timeit\n",
    "def rev_dict_compr(d):\n",
    "    rd = defaultdict(list)\n",
    "    {rd[v_].append(k) for k, v in d.items() for v_ in v}\n",
    "    return rd\n",
    "    #return {v1: [k1 for k1, v2 in d.items() for v2_ in v2 if v1 == v2_ ] for v1 in set(j for i in d.values() for j in i)}\n",
    "    #return {v1_: [k1 for k1, v2 in d.items() for v2_ in v2 if v1_ == v2_ ] for v1 in d.values() for v1_ in v1}\n",
    "    \n",
    "    \n",
    "print(rev_dict(d))\n",
    "print(rev_dict_compr(d))\n"
   ]
  },
  {
   "cell_type": "code",
   "execution_count": 5,
   "metadata": {},
   "outputs": [
    {
     "name": "stdout",
     "output_type": "stream",
     "text": [
      "39.9 ms ± 3.31 ms per loop (mean ± std. dev. of 7 runs, 10 loops each)\n"
     ]
    }
   ],
   "source": [
    "%timeit rev_dict(d_big)"
   ]
  },
  {
   "cell_type": "code",
   "execution_count": 6,
   "metadata": {},
   "outputs": [
    {
     "name": "stdout",
     "output_type": "stream",
     "text": [
      "33 ms ± 1.21 ms per loop (mean ± std. dev. of 7 runs, 10 loops each)\n"
     ]
    }
   ],
   "source": [
    "%timeit rev_dict_compr(d_big)"
   ]
  },
  {
   "cell_type": "code",
   "execution_count": null,
   "metadata": {},
   "outputs": [],
   "source": []
  }
 ],
 "metadata": {
  "kernelspec": {
   "display_name": "Python 3",
   "language": "python",
   "name": "python3"
  },
  "language_info": {
   "codemirror_mode": {
    "name": "ipython",
    "version": 3
   },
   "file_extension": ".py",
   "mimetype": "text/x-python",
   "name": "python",
   "nbconvert_exporter": "python",
   "pygments_lexer": "ipython3",
   "version": "3.8.5"
  }
 },
 "nbformat": 4,
 "nbformat_minor": 2
}
