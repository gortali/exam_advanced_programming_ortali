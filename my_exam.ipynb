{
 "cells": [
  {
   "cell_type": "code",
   "execution_count": 1,
   "metadata": {},
   "outputs": [],
   "source": [
    "import time"
   ]
  },
  {
   "cell_type": "code",
   "execution_count": 2,
   "metadata": {},
   "outputs": [],
   "source": [
    "d={1:['a','b'],2:['z','a'],3:['e','f','g'],5:['a','g','f','z']}\n",
    "                                                                 \n",
    "chars = \"qwertyuiopasdfghjklzxcvbnm\"                                        \n",
    "chars = sorted(chars.upper() + chars)                                                                                                                     \n",
    "keys = [c + str(n) for c in chars for n in range(1000)]                                                                                                       \n",
    "import random\n",
    "random.seed(42)                                                                  \n",
    "d_big = {k: [random.randint(1, 1000) for _ in range(random.randint(1, 10))] for k in keys}\n",
    "             "
   ]
  },
  {
   "cell_type": "code",
   "execution_count": 10,
   "metadata": {},
   "outputs": [
    {
     "name": "stdout",
     "output_type": "stream",
     "text": [
      "{'a': [1, 2, 5], 'b': [1], 'z': [2, 5], 'e': [3], 'f': [3, 5], 'g': [3, 5]}\n",
      "{'a': [1, 2, 5], 'b': [1], 'z': [2, 5], 'e': [3], 'f': [3, 5], 'g': [3, 5]}\n"
     ]
    }
   ],
   "source": [
    "#@timeit\n",
    "def rev_dict(d):\n",
    "    rd = {}\n",
    "    for k, v in d.items():\n",
    "        for i in v:\n",
    "            if(i in rd and not k in rd[i]):\n",
    "                rd[i].append(k)\n",
    "            else:\n",
    "                rd[i]=[k]\n",
    "    return rd\n",
    "\n",
    "\n",
    "from collections import defaultdict\n",
    "\n",
    "#@timeit\n",
    "def rev_dict_compr(d):\n",
    "    rd = defaultdict(list)\n",
    "    {rd[v_].append(k) for k, v in d.items() for v_ in v if not k in rd[v_]}\n",
    "    return dict(rd)\n",
    "    #return {v1: [k1 for k1, v2 in d.items() for v2_ in v2 if v1 == v2_ ] for v1 in set(j for i in d.values() for j in i)}\n",
    "    #return {v1_: [k1 for k1, v2 in d.items() for v2_ in v2 if v1_ == v2_ ] for v1 in d.values() for v1_ in v1}\n",
    "    \n",
    "    \n",
    "print(rev_dict(d))\n",
    "print(rev_dict_compr(d))\n"
   ]
  },
  {
   "cell_type": "code",
   "execution_count": 11,
   "metadata": {},
   "outputs": [
    {
     "name": "stdout",
     "output_type": "stream",
     "text": [
      "533 ms ± 9.44 ms per loop (mean ± std. dev. of 7 runs, 1 loop each)\n"
     ]
    }
   ],
   "source": [
    "%timeit rev_dict(d_big)"
   ]
  },
  {
   "cell_type": "code",
   "execution_count": 9,
   "metadata": {},
   "outputs": [
    {
     "name": "stdout",
     "output_type": "stream",
     "text": [
      "676 ms ± 8.93 ms per loop (mean ± std. dev. of 7 runs, 1 loop each)\n"
     ]
    }
   ],
   "source": [
    "%timeit rev_dict_compr(d_big)"
   ]
  },
  {
   "cell_type": "code",
   "execution_count": null,
   "metadata": {},
   "outputs": [],
   "source": []
  }
 ],
 "metadata": {
  "kernelspec": {
   "display_name": "Python 3",
   "language": "python",
   "name": "python3"
  },
  "language_info": {
   "codemirror_mode": {
    "name": "ipython",
    "version": 3
   },
   "file_extension": ".py",
   "mimetype": "text/x-python",
   "name": "python",
   "nbconvert_exporter": "python",
   "pygments_lexer": "ipython3",
   "version": "3.8.5"
  }
 },
 "nbformat": 4,
 "nbformat_minor": 2
}
